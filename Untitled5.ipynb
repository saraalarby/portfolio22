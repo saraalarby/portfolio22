{
 "cells": [
  {
   "cell_type": "code",
   "execution_count": 1,
   "id": "bfed69fe-c90d-4476-a088-71d782b03c58",
   "metadata": {},
   "outputs": [],
   "source": [
    "import numpy as np\n"
   ]
  },
  {
   "cell_type": "code",
   "execution_count": 7,
   "id": "e6033528-021b-4409-8182-cdc48a85d99d",
   "metadata": {},
   "outputs": [
    {
     "name": "stdout",
     "output_type": "stream",
     "text": [
      "ناتج الشبكة: [0.34265558]\n"
     ]
    }
   ],
   "source": [
    "\n",
    "def tanh(x):\n",
    "    return np.tanh(x)\n",
    "\n",
    "\n",
    "np.random.seed(42)  \n",
    "weights_1 = np.random.uniform(-0.5, 0.5, (2, 2)) \n",
    "weights_2 = np.random.uniform(-0.5, 0.5, (2, 1)) \n",
    "\n",
    "\n",
    "bias_1 = np.array([0.5, 0.5])  \n",
    "bias_2 = np.array([0.7])       \n",
    "\n",
    "\n",
    "input_data = np.array([0.6, -0.2])  \n",
    "\n",
    "\n",
    "hidden_layer_input = np.dot(input_data, weights_1) + bias_1  \n",
    "hidden_layer_output = tanh(hidden_layer_input)  \n",
    "\n",
    "output_layer_input = np.dot(hidden_layer_output, weights_2) + bias_2  \n",
    "network_output = tanh(output_layer_input)  \n",
    "\n",
    "\n",
    "print(\"ناتج الشبكة:\", network_output)\n"
   ]
  },
  {
   "cell_type": "code",
   "execution_count": null,
   "id": "66b26233-d736-4f6c-bac4-88449ce1e495",
   "metadata": {},
   "outputs": [],
   "source": []
  }
 ],
 "metadata": {
  "kernelspec": {
   "display_name": "Python 3 (ipykernel)",
   "language": "python",
   "name": "python3"
  },
  "language_info": {
   "codemirror_mode": {
    "name": "ipython",
    "version": 3
   },
   "file_extension": ".py",
   "mimetype": "text/x-python",
   "name": "python",
   "nbconvert_exporter": "python",
   "pygments_lexer": "ipython3",
   "version": "3.12.4"
  }
 },
 "nbformat": 4,
 "nbformat_minor": 5
}
